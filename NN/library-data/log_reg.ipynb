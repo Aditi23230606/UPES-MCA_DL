{
  "nbformat": 4,
  "nbformat_minor": 0,
  "metadata": {
    "colab": {
      "provenance": [],
      "gpuType": "T4"
    },
    "kernelspec": {
      "name": "python3",
      "display_name": "Python 3"
    },
    "language_info": {
      "name": "python"
    },
    "accelerator": "GPU"
  },
  "cells": [
    {
      "cell_type": "code",
      "source": [
        "import pandas as pd\n",
        "from matplotlib import pyplot as plt"
      ],
      "metadata": {
        "id": "QwtpaQxuIhUB"
      },
      "execution_count": 2,
      "outputs": []
    },
    {
      "cell_type": "code",
      "source": [
        "from google.colab import drive\n",
        "drive.mount('/content/drive')"
      ],
      "metadata": {
        "colab": {
          "base_uri": "https://localhost:8080/"
        },
        "id": "aFkDOjXELL3Z",
        "outputId": "dec39fbc-84b1-43da-d7e6-8648a37d4ce1"
      },
      "execution_count": 1,
      "outputs": [
        {
          "output_type": "stream",
          "name": "stdout",
          "text": [
            "Mounted at /content/drive\n"
          ]
        }
      ]
    },
    {
      "cell_type": "code",
      "source": [
        "#STEP 1: DATA READING AND UNDERSTANDING\n",
        "\n",
        "df = pd.read_csv(\"/content/drive/MyDrive/log-reg/images_analyzed_productivity1.csv\")\n",
        "print(df.head())"
      ],
      "metadata": {
        "colab": {
          "base_uri": "https://localhost:8080/"
        },
        "id": "_U3PQsqwIfk4",
        "outputId": "1b54e7f4-f2df-459d-d653-bc2e0a350369"
      },
      "execution_count": 3,
      "outputs": [
        {
          "output_type": "stream",
          "name": "stdout",
          "text": [
            "   User  Time  Coffee  Age  Images_Analyzed Productivity\n",
            "0     1     8       0   23               20         Good\n",
            "1     1    13       0   23               14          Bad\n",
            "2     1    17       0   23               18         Good\n",
            "3     1    22       0   23               15          Bad\n",
            "4     1     8       2   23               22         Good\n"
          ]
        }
      ]
    },
    {
      "cell_type": "code",
      "source": [
        "#plt.scatter(df.Age, df.Productivity, marker='+', color='red')\n",
        "#plt.scatter(df.Time, df.Productivity, marker='+', color='red')\n",
        "#plt.scatter(df.Coffee, df.Productivity, marker='+', color='red')\n",
        "\n",
        "\n",
        "#PLot productivity values to see the split between Good and Bad\n",
        "sizes = df['Productivity'].value_counts(sort = 1)\n",
        "\n",
        "plt.pie(sizes, shadow=True, autopct='%1.1f%%')\n",
        "#Good to know so we know the proportion of each label\n"
      ],
      "metadata": {
        "colab": {
          "base_uri": "https://localhost:8080/",
          "height": 510
        },
        "id": "63Ack4mDIW57",
        "outputId": "65b2fa37-bf8d-47cb-a818-36aaa3218b2c"
      },
      "execution_count": 4,
      "outputs": [
        {
          "output_type": "execute_result",
          "data": {
            "text/plain": [
              "([<matplotlib.patches.Wedge at 0x7cd5e5b252a0>,\n",
              "  <matplotlib.patches.Wedge at 0x7cd5e5b251b0>],\n",
              " [Text(-0.08630492316306847, 1.096609073570804, ''),\n",
              "  Text(0.08630482049111692, -1.0966090816512493, '')],\n",
              " [Text(-0.04707541263440097, 0.598150403765893, '52.5%'),\n",
              "  Text(0.04707535663151831, -0.5981504081734086, '47.5%')])"
            ]
          },
          "metadata": {},
          "execution_count": 4
        },
        {
          "output_type": "display_data",
          "data": {
            "text/plain": [
              "<Figure size 640x480 with 1 Axes>"
            ],
            "image/png": "[encoded data removed]"
          },
          "metadata": {}
        }
      ]
    },
    {
      "cell_type": "code",
      "source": [
        "#STEP 2: DROP IRRELEVANT DATA\n",
        "#In our example, Images_Analyzed reflects whether it is good analysis or bad\n",
        "#so should not include it. ALso, User number is just a number and has no inflence\n",
        "#on the productivity, so we can drop it.\n",
        "\n",
        "df.drop(['Images_Analyzed'], axis=1, inplace=True)\n",
        "df.drop(['User'], axis=1, inplace=True)"
      ],
      "metadata": {
        "id": "yinHnp5-KV7p"
      },
      "execution_count": 5,
      "outputs": []
    },
    {
      "cell_type": "code",
      "source": [
        "#STEP 3: Handle missing values, if needed\n",
        "#df = df.dropna()  #Drops all rows with at least one null value.\n",
        "\n",
        "\n",
        "#STEP 4: Convert non-numeric to numeric, if needed.\n",
        "#Sometimes we may have non-numeric data, for example batch name, user name, city name, etc.\n",
        "#e.g. if data is in the form of YES and NO then convert to 1 and 2\n",
        "\n",
        "df.Productivity[df.Productivity == 'Good'] = 1\n",
        "df.Productivity[df.Productivity == 'Bad'] = 2\n",
        "print(df.head())"
      ],
      "metadata": {
        "colab": {
          "base_uri": "https://localhost:8080/"
        },
        "id": "UdKYH8-xKW-r",
        "outputId": "18942028-351f-4db6-bad7-ad4fb9dc726d"
      },
      "execution_count": 6,
      "outputs": [
        {
          "output_type": "stream",
          "name": "stdout",
          "text": [
            "   Time  Coffee  Age Productivity\n",
            "0     8       0   23            1\n",
            "1    13       0   23            2\n",
            "2    17       0   23            1\n",
            "3    22       0   23            2\n",
            "4     8       2   23            1\n"
          ]
        },
        {
          "output_type": "stream",
          "name": "stderr",
          "text": [
            "<ipython-input-6-65d21a5298ab>:9: SettingWithCopyWarning: \n",
            "A value is trying to be set on a copy of a slice from a DataFrame\n",
            "\n",
            "See the caveats in the documentation: https://pandas.pydata.org/pandas-docs/stable/user_guide/indexing.html#returning-a-view-versus-a-copy\n",
            "  df.Productivity[df.Productivity == 'Good'] = 1\n",
            "<ipython-input-6-65d21a5298ab>:10: SettingWithCopyWarning: \n",
            "A value is trying to be set on a copy of a slice from a DataFrame\n",
            "\n",
            "See the caveats in the documentation: https://pandas.pydata.org/pandas-docs/stable/user_guide/indexing.html#returning-a-view-versus-a-copy\n",
            "  df.Productivity[df.Productivity == 'Bad'] = 2\n"
          ]
        }
      ]
    },
    {
      "cell_type": "code",
      "source": [
        "#STEP 5: PREPARE THE DATA.\n",
        "\n",
        "#Y is the data with dependent variable, this is the Productivity column\n",
        "Y = df[\"Productivity\"].values  #At this point Y is an object not of type int\n",
        "#Convert Y to int\n",
        "Y=Y.astype('int')\n",
        "\n",
        "#X is data with independent variables, everything except Productivity column\n",
        "# Drop label column from X as you don't want that included as one of the features\n",
        "X = df.drop(labels = [\"Productivity\"], axis=1)\n",
        "#print(X.head())"
      ],
      "metadata": {
        "id": "lhejLCfiKaXT"
      },
      "execution_count": 7,
      "outputs": []
    },
    {
      "cell_type": "code",
      "source": [
        "#STEP 6: SPLIT THE DATA into TRAIN AND TEST data.\n",
        "from sklearn.model_selection import train_test_split\n",
        "X_train, X_test, y_train, y_test = train_test_split(X, Y, test_size=0.4, random_state=20)\n",
        "#random_state can be any integer and it is used as a seed to randomly split dataset.\n",
        "#By doing this we work with same test dataset evry time, if this is important.\n",
        "#random_state=None splits dataset randomly every time\n",
        "\n",
        "#print(X_train)"
      ],
      "metadata": {
        "id": "b8QLr4_dKe37"
      },
      "execution_count": 8,
      "outputs": []
    },
    {
      "cell_type": "code",
      "source": [
        "#STEP 7: Defining the model and training.\n",
        "\n",
        "from sklearn.linear_model import LogisticRegression   #Import the relevant model\n",
        "model = LogisticRegression()  #Create an instance of the model.\n",
        "\n",
        "model.fit(X_train, y_train)  # Train the model using training data"
      ],
      "metadata": {
        "colab": {
          "base_uri": "https://localhost:8080/",
          "height": 75
        },
        "id": "hAYMNPcbKifc",
        "outputId": "b1ea671d-9911-49f5-b9f0-c5f64674586d"
      },
      "execution_count": 9,
      "outputs": [
        {
          "output_type": "execute_result",
          "data": {
            "text/plain": [
              "LogisticRegression()"
            ],
            "text/html": [
              "<style>#sk-container-id-1 {color: black;background-color: white;}#sk-container-id-1 pre{padding: 0;}#sk-container-id-1 div.sk-toggleable {background-color: white;}#sk-container-id-1 label.sk-toggleable__label {cursor: pointer;display: block;width: 100%;margin-bottom: 0;padding: 0.3em;box-sizing: border-box;text-align: center;}#sk-container-id-1 label.sk-toggleable__label-arrow:before {content: \"▸\";float: left;margin-right: 0.25em;color: #696969;}#sk-container-id-1 label.sk-toggleable__label-arrow:hover:before {color: black;}#sk-container-id-1 div.sk-estimator:hover label.sk-toggleable__label-arrow:before {color: black;}#sk-container-id-1 div.sk-toggleable__content {max-height: 0;max-width: 0;overflow: hidden;text-align: left;background-color: #f0f8ff;}#sk-container-id-1 div.sk-toggleable__content pre {margin: 0.2em;color: black;border-radius: 0.25em;background-color: #f0f8ff;}#sk-container-id-1 input.sk-toggleable__control:checked~div.sk-toggleable__content {max-height: 200px;max-width: 100%;overflow: auto;}#sk-container-id-1 input.sk-toggleable__control:checked~label.sk-toggleable__label-arrow:before {content: \"▾\";}#sk-container-id-1 div.sk-estimator input.sk-toggleable__control:checked~label.sk-toggleable__label {background-color: #d4ebff;}#sk-container-id-1 div.sk-label input.sk-toggleable__control:checked~label.sk-toggleable__label {background-color: #d4ebff;}#sk-container-id-1 input.sk-hidden--visually {border: 0;clip: rect(1px 1px 1px 1px);clip: rect(1px, 1px, 1px, 1px);height: 1px;margin: -1px;overflow: hidden;padding: 0;position: absolute;width: 1px;}#sk-container-id-1 div.sk-estimator {font-family: monospace;background-color: #f0f8ff;border: 1px dotted black;border-radius: 0.25em;box-sizing: border-box;margin-bottom: 0.5em;}#sk-container-id-1 div.sk-estimator:hover {background-color: #d4ebff;}#sk-container-id-1 div.sk-parallel-item::after {content: \"\";width: 100%;border-bottom: 1px solid gray;flex-grow: 1;}#sk-container-id-1 div.sk-label:hover label.sk-toggleable__label {background-color: #d4ebff;}#sk-container-id-1 div.sk-serial::before {content: \"\";position: absolute;border-left: 1px solid gray;box-sizing: border-box;top: 0;bottom: 0;left: 50%;z-index: 0;}#sk-container-id-1 div.sk-serial {display: flex;flex-direction: column;align-items: center;background-color: white;padding-right: 0.2em;padding-left: 0.2em;position: relative;}#sk-container-id-1 div.sk-item {position: relative;z-index: 1;}#sk-container-id-1 div.sk-parallel {display: flex;align-items: stretch;justify-content: center;background-color: white;position: relative;}#sk-container-id-1 div.sk-item::before, #sk-container-id-1 div.sk-parallel-item::before {content: \"\";position: absolute;border-left: 1px solid gray;box-sizing: border-box;top: 0;bottom: 0;left: 50%;z-index: -1;}#sk-container-id-1 div.sk-parallel-item {display: flex;flex-direction: column;z-index: 1;position: relative;background-color: white;}#sk-container-id-1 div.sk-parallel-item:first-child::after {align-self: flex-end;width: 50%;}#sk-container-id-1 div.sk-parallel-item:last-child::after {align-self: flex-start;width: 50%;}#sk-container-id-1 div.sk-parallel-item:only-child::after {width: 0;}#sk-container-id-1 div.sk-dashed-wrapped {border: 1px dashed gray;margin: 0 0.4em 0.5em 0.4em;box-sizing: border-box;padding-bottom: 0.4em;background-color: white;}#sk-container-id-1 div.sk-label label {font-family: monospace;font-weight: bold;display: inline-block;line-height: 1.2em;}#sk-container-id-1 div.sk-label-container {text-align: center;}#sk-container-id-1 div.sk-container {/* jupyter's `normalize.less` sets `[hidden] { display: none; }` but bootstrap.min.css set `[hidden] { display: none !important; }` so we also need the `!important` here to be able to override the default hidden behavior on the sphinx rendered scikit-learn.org. See: https://github.com/scikit-learn/scikit-learn/issues/21755 */display: inline-block !important;position: relative;}#sk-container-id-1 div.sk-text-repr-fallback {display: none;}</style><div id=\"sk-container-id-1\" class=\"sk-top-container\"><div class=\"sk-text-repr-fallback\"><pre>LogisticRegression()</pre><b>In a Jupyter environment, please rerun this cell to show the HTML representation or trust the notebook. <br />On GitHub, the HTML representation is unable to render, please try loading this page with nbviewer.org.</b></div><div class=\"sk-container\" hidden><div class=\"sk-item\"><div class=\"sk-estimator sk-toggleable\"><input class=\"sk-toggleable__control sk-hidden--visually\" id=\"sk-estimator-id-1\" type=\"checkbox\" checked><label for=\"sk-estimator-id-1\" class=\"sk-toggleable__label sk-toggleable__label-arrow\">LogisticRegression</label><div class=\"sk-toggleable__content\"><pre>LogisticRegression()</pre></div></div></div></div></div>"
            ]
          },
          "metadata": {},
          "execution_count": 9
        }
      ]
    },
    {
      "cell_type": "code",
      "source": [
        "#STEP 8: TESTING THE MODEL BY PREDICTING ON TEST DATA\n",
        "#AND CALCULATE THE ACCURACY SCORE\n",
        "prediction_test = model.predict(X_test)\n",
        "\n",
        "from sklearn import metrics\n",
        "#Print the prediction accuracy\n",
        "print (\"Accuracy = \", metrics.accuracy_score(y_test, prediction_test))"
      ],
      "metadata": {
        "colab": {
          "base_uri": "https://localhost:8080/"
        },
        "id": "s5P8ZLJKKoVB",
        "outputId": "4cdcbc4d-7a96-476f-ac4d-92981f965a70"
      },
      "execution_count": 10,
      "outputs": [
        {
          "output_type": "stream",
          "name": "stdout",
          "text": [
            "Accuracy =  0.6875\n"
          ]
        }
      ]
    },
    {
      "cell_type": "code",
      "source": [
        "#Test accuracy for various test sizes and see how it gets better with more training data\n",
        "\n",
        "\n",
        "#UNDERSTAND WHICH VARIABLES HAVE MOST INFLUENCE ON THE OUTCOME\n",
        "# To get the weights of all the variables\n",
        "\n",
        "print(model.coef_) #Print the coefficients for each independent variable.\n",
        "#But it is not clear which one corresponds to what.\n",
        "#SO let us print both column values and coefficients.\n",
        "#.Series is a 1-D labeled array capable of holding any data type.\n",
        "#Default index would be 0,1,2,3... but let us overwrite them with column names for X (independent variables)\n",
        "weights = pd.Series(model.coef_[0], index=X.columns.values)\n",
        "\n",
        "print(\"Weights for each variables is a follows...\")\n",
        "print(weights)\n",
        "\n",
        "#+VE VALUE INDICATES THAT THE VARIABLE HAS A POSITIVE IMPACT"
      ],
      "metadata": {
        "colab": {
          "base_uri": "https://localhost:8080/"
        },
        "id": "aRx6yKyLKse9",
        "outputId": "845d5110-a7bb-494c-fd90-c7cebb84de60"
      },
      "execution_count": 11,
      "outputs": [
        {
          "output_type": "stream",
          "name": "stdout",
          "text": [
            "[[0.16579479 0.33150487 0.02200014]]\n",
            "Weights for each variables is a follows...\n",
            "Time      0.165795\n",
            "Coffee    0.331505\n",
            "Age       0.022000\n",
            "dtype: float64\n"
          ]
        }
      ]
    },
    {
      "cell_type": "code",
      "source": [],
      "metadata": {
        "id": "ipWnO0pxIXRK"
      },
      "execution_count": null,
      "outputs": []
    },
    {
      "cell_type": "code",
      "source": [],
      "metadata": {
        "id": "l64R1XXMIXfL"
      },
      "execution_count": null,
      "outputs": []
    },
    {
      "cell_type": "code",
      "source": [],
      "metadata": {
        "id": "-g9QZhsdIXsC"
      },
      "execution_count": null,
      "outputs": []
    }
  ]
}